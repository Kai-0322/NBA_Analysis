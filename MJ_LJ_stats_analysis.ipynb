{
 "cells": [
  {
   "cell_type": "code",
   "execution_count": null,
   "id": "bf44a7b4-cc46-414b-a138-6539f72196e7",
   "metadata": {},
   "outputs": [],
   "source": [
    "#import libraries\n",
    "import pandas as pd\n",
    "from matplotlib import pyplot as plt\n",
    "import numpy as np\n",
    "from scipy import stats"
   ]
  },
  {
   "cell_type": "code",
   "execution_count": null,
   "id": "14cc98a7-e9ab-43a1-830d-0b8cba880d01",
   "metadata": {},
   "outputs": [],
   "source": [
    "#read csv data and change Wl to 1s and 0s\n",
    "nba_df = pd.read_csv(\"NBA_Data/NBA Player Stats(1950 - 2022).csv\")\n",
    "nba_df = nba_df[[\"Season\", \"Player\", \"G\", \"FG\", \"FG%\", \"3P%\", \"2P%\", \"FT\", \"FTA\", \"MP\", \"PTS\", \"ORB\", \"DRB\", \"TRB\", \"AST\", \"STL\", \"BLK\", \"TOV\"]]\n",
    "nba_df = nba_df.rename(columns={\"FT\": \"FTM\", \"FG\": \"FGM\", \"DRB\": \"DREB\"})\n",
    "games_1985_to_2000 = pd.read_csv(\"NBA_Data/games_data_1985_to_2000.csv\")\n",
    "games_2001_to_today = pd.read_csv(\"NBA_Data/games_data_2001_to_today.csv\")\n",
    "games_1985_to_2000 = games_1985_to_2000[[\"WL\", \"MIN\", \"FGM\", \"FGA\", \"FTM\", \"FTA\", \"OREB\", \"DREB\", \"AST\", \"STL\", \"BLK\", \"PTS\"]]\n",
    "games_2001_to_today = games_2001_to_today[[\"WL\", \"MIN\", \"FGM\", \"FGA\", \"FTM\", \"FTA\", \"OREB\", \"DREB\", \"AST\", \"STL\", \"BLK\", \"PTS\"]]\n",
    "finding_metric = pd.concat([games_1985_to_2000, games_2001_to_today])\n",
    "finding_metric = finding_metric.dropna(axis=0,  how=\"any\")\n",
    "finding_metric.loc[finding_metric[\"WL\"] == \"W\", \"WL\"] = 1\n",
    "finding_metric.loc[finding_metric[\"WL\"] == \"L\", \"WL\"] = 0\n",
    "nba_df"
   ]
  },
  {
   "cell_type": "code",
   "execution_count": null,
   "id": "0b511c3e-f626-407b-9945-d51e212e003b",
   "metadata": {},
   "outputs": [],
   "source": [
    "finding_metric"
   ]
  },
  {
   "cell_type": "code",
   "execution_count": null,
   "id": "d8b56793-cd9c-4625-a274-11a9b008b390",
   "metadata": {},
   "outputs": [],
   "source": [
    "#Looking at how each stat correlates to winning games\n",
    "results = {}\n",
    "for col in finding_metric.columns:\n",
    "    if col == \"WL\":\n",
    "        continue\n",
    "    results[col] = stats.pearsonr(finding_metric[col], finding_metric[\"WL\"])\n",
    "results"
   ]
  },
  {
   "cell_type": "code",
   "execution_count": null,
   "id": "47ff7fe9-d462-411f-803f-b46dd819517b",
   "metadata": {},
   "outputs": [],
   "source": [
    "#splitting each stat into \"bins\" 1 apart from each other to get a representation of the spread of the data\n",
    "#doing a pearsonr test as done above only is looking at 2 x values, one for a win and one for a loss\n",
    "outer_dict = {}\n",
    "for col in finding_metric.columns:\n",
    "    if col == \"WL\":\n",
    "        continue\n",
    "    inner_dict = {}\n",
    "    max = int(finding_metric[col].max())\n",
    "    min = int(finding_metric[col].min())\n",
    "    # offset = range / 20\n",
    "    for i in range(min, max):\n",
    "        j = i+1\n",
    "        temp = finding_metric.loc[(finding_metric[col] >= i) & (finding_metric[col] < j)][\"WL\"].mean()\n",
    "        if not pd.isna(temp):\n",
    "            if not (temp == 1 or temp == 0):\n",
    "                inner_dict[i] = temp\n",
    "    outer_dict[col] = inner_dict\n",
    "outer_dict"
   ]
  },
  {
   "cell_type": "code",
   "execution_count": null,
   "id": "b841234f-6c49-46f5-bf03-2da082a39bd7",
   "metadata": {},
   "outputs": [],
   "source": [
    "#performing the pearsonr test for each of the different stats\n",
    "results = {}\n",
    "for col in outer_dict:\n",
    "    keys = []\n",
    "    values = []\n",
    "    for key, value in outer_dict[col].items():\n",
    "        keys.append(key)\n",
    "        values.append(value)\n",
    "    results[col] = stats.pearsonr(keys, values)\n",
    "results"
   ]
  },
  {
   "cell_type": "code",
   "execution_count": null,
   "id": "e4a8cd18-1ace-46d7-8b92-e0f665ccf9a5",
   "metadata": {},
   "outputs": [],
   "source": [
    "#trimming out the stats that are statistically insignificant\n",
    "pvalue_cutoff = 0.05\n",
    "statistic_cutoff = 0.5\n",
    "important_results = {col:results[col] for col in results if (results[col].pvalue < pvalue_cutoff and np.abs(results[col].statistic) > statistic_cutoff)}\n",
    "important_results"
   ]
  },
  {
   "cell_type": "code",
   "execution_count": null,
   "id": "95c87fac-302d-455f-bcaa-41008769cc40",
   "metadata": {},
   "outputs": [],
   "source": [
    "#sorting the highest pts in a season\n",
    "pts_per_season = nba_df[[\"Player\", \"PTS\", \"Season\"]].sort_values(\"PTS\", ascending=False)\n",
    "pts_per_season"
   ]
  },
  {
   "cell_type": "code",
   "execution_count": null,
   "id": "b9b63d01-d6cc-44d0-9927-e8f911a89231",
   "metadata": {},
   "outputs": [],
   "source": [
    "# sorting the highest pts in a season by average per player\n",
    "avg_per_season = nba_df[[\"PTS\", \"Player\"]].groupby(\"Player\").mean()\n",
    "avg_per_season = avg_per_season.sort_values(\"PTS\", ascending=False)\n",
    "avg_per_season"
   ]
  },
  {
   "cell_type": "code",
   "execution_count": null,
   "id": "15b1e349-ad5e-4ff5-961c-39c8531bc6f3",
   "metadata": {},
   "outputs": [],
   "source": [
    "#finding the mean and the std for each statistic in each season per player\n",
    "data = {}\n",
    "for season in range(1985, 2023):\n",
    "    seasonal_data = {}\n",
    "    season_data = nba_df.loc[nba_df[\"Season\"] == season][[\"Season\",\"Player\",\"FGM\",\"FTM\",\"FTA\",\"PTS\",\"DREB\",\"AST\",\"STL\",\"BLK\"]]\n",
    "    for col in season_data.columns:\n",
    "        if col == \"Season\" or col == \"Player\":\n",
    "            continue\n",
    "        mean_season_data = season_data[col].mean()\n",
    "        std_season_data = season_data[col].std()\n",
    "        seasonal_data[col] = (mean_season_data, std_season_data)\n",
    "    data[season] = seasonal_data\n",
    "data"
   ]
  },
  {
   "cell_type": "code",
   "execution_count": null,
   "id": "ab52950d-7b35-412f-8657-8ab00c4c7d93",
   "metadata": {},
   "outputs": [],
   "source": [
    "#calculating the effectiveness of each player's stats by taking their averages and standard deviations and applying a weight to them\n",
    "#based off the results of the pearsonr test we did above\n",
    "player_stats_data = nba_df.loc[nba_df[\"Season\"] > 1984][[\"Season\",\"Player\",\"FGM\",\"FTM\",\"FTA\",\"PTS\",\"DREB\",\"AST\",\"STL\",\"BLK\"]]\n",
    "for season in range(1985, 2023):\n",
    "    season_data = player_stats_data.loc[player_stats_data[\"Season\"] == season][[\"Season\",\"Player\",\"FGM\",\"FTM\",\"FTA\",\"PTS\",\"DREB\",\"AST\",\"STL\",\"BLK\"]]\n",
    "    for index, row in season_data.iterrows():\n",
    "        for col in season_data.columns:\n",
    "            if col == \"Season\" or col == \"Player\":\n",
    "                continue\n",
    "            mean, std = data[season][col]\n",
    "            temp = player_stats_data.loc[index, col]\n",
    "            temp = ((temp - mean) / std) * important_results[col].statistic\n",
    "            player_stats_data.loc[index, col] = temp\n",
    "player_stats_data"
   ]
  },
  {
   "cell_type": "code",
   "execution_count": null,
   "id": "0e8f6502-84bf-4b1e-be1e-0591d2b855c4",
   "metadata": {},
   "outputs": [],
   "source": [
    "#adding the weighted stats together for each player to get a final weighted statistic of performance based on how effectively they won per season\n",
    "player_stats_data[\"Weighted Stat\"] = \"\"\n",
    "for index, row in player_stats_data.iterrows():\n",
    "    running_tot = 0\n",
    "    for col in player_stats_data.columns:\n",
    "        if col == \"Season\" or col == \"Player\":\n",
    "                continue\n",
    "        if col == \"Weighted Stat\":\n",
    "            player_stats_data.loc[index, col] = running_tot\n",
    "        running_tot += player_stats_data.loc[index, col]\n",
    "player_stats_data = player_stats_data.sort_values(\"Weighted Stat\", ascending=False)\n",
    "player_stats_data.head(30)"
   ]
  },
  {
   "cell_type": "code",
   "execution_count": null,
   "id": "8b6f7911-8c77-435d-a81c-988940f13548",
   "metadata": {},
   "outputs": [],
   "source": [
    "important_results = pd.DataFrame.from_dict(important_results, orient='index')\n",
    "important_results = important_results.rename(index={'FGM': 'Field Goals Made', 'FTM':'Free Throws Made', 'FTA': 'Free Throw Attempts',\n",
    "                                'DREB': 'Defensive Rebounds', 'AST': 'Assists', 'STL': 'Steals', 'BLK': 'Blocks',\n",
    "                                'PTS': 'Points'})\n",
    "important_results"
   ]
  },
  {
   "cell_type": "code",
   "execution_count": null,
   "id": "fc47b022-9e7a-49f7-9c05-df2988883fdc",
   "metadata": {},
   "outputs": [],
   "source": [
    "unique_seasons = nba_df['Season'].unique()\n",
    "\n",
    "average_points_per_season = pd.DataFrame(columns=['Season', 'Average_Points'])\n",
    "top_players_per_season = pd.DataFrame(columns=['Season', 'Player', 'PTS', 'Std_Dev_Above_Avg'])\n",
    "\n",
    "#Calculate average points of each season and std. dev. of top 5 players\n",
    "for season in unique_seasons:\n",
    "    season_data = nba_df[nba_df['Season'] == season]\n",
    "\n",
    "    season_player_points = season_data.groupby(['Season', 'Player'])['PTS'].sum().reset_index()\n",
    "    \n",
    "    average_points = season_player_points['PTS'].mean()\n",
    "    average_points_per_season = pd.concat([average_points_per_season, pd.DataFrame({'Season': [season], 'Average_Points': [average_points]})], ignore_index=True)\n",
    "    top_players = season_player_points.nlargest(5, 'PTS')\n",
    "    \n",
    "    std_dev_points = season_player_points['PTS'].std()\n",
    "\n",
    "    top_players['Std_Dev_Above_Avg'] = (top_players['PTS'] - average_points) / std_dev_points\n",
    "    \n",
    "    top_players['Season'] = season\n",
    "    top_players_per_season = pd.concat([top_players_per_season, top_players], ignore_index=True)"
   ]
  },
  {
   "cell_type": "code",
   "execution_count": null,
   "id": "c7f25bdc-7564-43ab-b750-d6aee7026225",
   "metadata": {},
   "outputs": [],
   "source": [
    "# Sort the DataFrame by season for better visualization\n",
    "average_points_per_season.sort_values(by='Season', inplace=True)\n",
    "\n",
    "plt.figure(figsize=(10, 6))\n",
    "plt.bar(average_points_per_season['Season'], average_points_per_season['Average_Points'], color='orange')\n",
    "plt.xlabel('Season')\n",
    "plt.ylabel('Average Points per Player')\n",
    "plt.title('Average Points per Player per Season')\n",
    "plt.xticks(rotation=45)\n",
    "plt.tight_layout()\n",
    "plt.savefig(\"Charts/avg_points.png\")\n",
    "plt.show()"
   ]
  },
  {
   "cell_type": "code",
   "execution_count": null,
   "id": "10c54a0f-2828-4677-86a2-4d2e762b6df9",
   "metadata": {
    "scrolled": true
   },
   "outputs": [],
   "source": [
    "# Create a scatter plot\n",
    "plt.figure(figsize=(10, 6))\n",
    "plt.scatter(top_players_per_season['Season'], top_players_per_season['PTS'], c=top_players_per_season['Std_Dev_Above_Avg'], cmap='viridis', alpha=0.7)\n",
    "plt.colorbar(label='Std Dev Above Avg')\n",
    "plt.xlabel('Player')\n",
    "plt.ylabel('Points')\n",
    "plt.title('Top Players Points and Std Dev Above Avg per Season')\n",
    "plt.xticks(rotation=45, ha='right')\n",
    "plt.tight_layout()\n",
    "plt.savefig(\"Charts/top_players_pts.png\")\n",
    "plt.show()"
   ]
  },
  {
   "cell_type": "code",
   "execution_count": null,
   "id": "f82e49a0-ca04-4f7b-858c-791a49e08f9c",
   "metadata": {},
   "outputs": [],
   "source": [
    "# Filter players with Std_Dev_Above_Avg above 5\n",
    "top_players_high_std_dev = top_players_per_season[top_players_per_season['Std_Dev_Above_Avg'] > 5]\n",
    "\n",
    "# Create a scatter plot\n",
    "plt.figure(figsize=(10, 6))\n",
    "plt.scatter(top_players_high_std_dev['Player'], top_players_high_std_dev['PTS'], color='red')\n",
    "plt.xlabel('Player')\n",
    "plt.ylabel('Points')\n",
    "plt.title('Players with Std Dev Above 5')\n",
    "plt.xticks(rotation=45, ha='right')\n",
    "plt.tight_layout()\n",
    "plt.savefig(\"Charts/above5.png\")\n",
    "plt.show()"
   ]
  }
 ],
 "metadata": {
  "kernelspec": {
   "display_name": "Python 3 (ipykernel)",
   "language": "python",
   "name": "python3"
  },
  "language_info": {
   "codemirror_mode": {
    "name": "ipython",
    "version": 3
   },
   "file_extension": ".py",
   "mimetype": "text/x-python",
   "name": "python",
   "nbconvert_exporter": "python",
   "pygments_lexer": "ipython3",
   "version": "3.11.5"
  }
 },
 "nbformat": 4,
 "nbformat_minor": 5
}
