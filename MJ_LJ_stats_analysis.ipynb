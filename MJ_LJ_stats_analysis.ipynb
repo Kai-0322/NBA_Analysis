{
 "cells": [
  {
   "cell_type": "code",
   "execution_count": null,
   "id": "bf44a7b4-cc46-414b-a138-6539f72196e7",
   "metadata": {},
   "outputs": [],
   "source": [
    "import pandas as pd\n",
    "from matplotlib import pyplot as plt\n",
    "import numpy as np\n",
    "from scipy import stats"
   ]
  },
  {
   "cell_type": "code",
   "execution_count": null,
   "id": "14cc98a7-e9ab-43a1-830d-0b8cba880d01",
   "metadata": {},
   "outputs": [],
   "source": [
    "nba_df = pd.read_csv(\"NBA_Data/NBA Player Stats(1950 - 2022).csv\")\n",
    "nba_df = nba_df[[\"Season\", \"Player\", \"G\", \"FG%\", \"3P%\", \"2P%\", \"MP\", \"PTS\", \"ORB\", \"DRB\", \"TRB\", \"AST\", \"STL\", \"BLK\", \"TOV\"]]\n",
    "games_1985_to_2000 = pd.read_csv(\"NBA_Data/games_data_1985_to_2000.csv\")\n",
    "games_2001_to_today = pd.read_csv(\"NBA_Data/games_data_2001_to_today.csv\")\n",
    "games_1985_to_2000 = games_1985_to_2000[[\"WL\", \"MIN\", \"FGM\", \"FGA\", \"FTM\", \"FTA\", \"OREB\", \"DREB\", \"AST\", \"STL\", \"BLK\", \"PTS\"]]\n",
    "games_2001_to_today = games_2001_to_today[[\"WL\", \"MIN\", \"FGM\", \"FGA\", \"FTM\", \"FTA\", \"OREB\", \"DREB\", \"AST\", \"STL\", \"BLK\", \"PTS\"]]\n",
    "finding_metric = pd.concat([games_1985_to_2000, games_2001_to_today])\n",
    "finding_metric = finding_metric.dropna(axis=0,  how=\"any\")\n",
    "finding_metric.loc[finding_metric[\"WL\"] == \"W\", \"WL\"] = 1\n",
    "finding_metric.loc[finding_metric[\"WL\"] == \"L\", \"WL\"] = 0"
   ]
  },
  {
   "cell_type": "code",
   "execution_count": null,
   "id": "0b511c3e-f626-407b-9945-d51e212e003b",
   "metadata": {},
   "outputs": [],
   "source": [
    "finding_metric"
   ]
  },
  {
   "cell_type": "code",
   "execution_count": null,
   "id": "d8b56793-cd9c-4625-a274-11a9b008b390",
   "metadata": {},
   "outputs": [],
   "source": [
    "results = {}\n",
    "for col in finding_metric.columns:\n",
    "    if col == \"WL\":\n",
    "        continue\n",
    "    results[col] = stats.pearsonr(finding_metric[col], finding_metric[\"WL\"])"
   ]
  },
  {
   "cell_type": "code",
   "execution_count": null,
   "id": "12d81be9-b0c6-480c-9518-1e4e6638f2a8",
   "metadata": {},
   "outputs": [],
   "source": [
    "results"
   ]
  },
  {
   "cell_type": "code",
   "execution_count": null,
   "id": "4d739e3f-5fc6-403d-a4ec-055c5210196a",
   "metadata": {},
   "outputs": [],
   "source": []
  },
  {
   "cell_type": "code",
   "execution_count": null,
   "id": "47ff7fe9-d462-411f-803f-b46dd819517b",
   "metadata": {},
   "outputs": [],
   "source": [
    "outer_dict = {}\n",
    "for col in finding_metric.columns:\n",
    "    if col == \"WL\":\n",
    "        continue\n",
    "    inner_dict = {}\n",
    "    max = int(finding_metric[col].max())\n",
    "    min = int(finding_metric[col].min())\n",
    "    # offset = range / 20\n",
    "    for i in range(min, max):\n",
    "        j = i+1\n",
    "        temp = finding_metric.loc[(finding_metric[col] >= i) & (finding_metric[col] < j)][\"WL\"].mean()\n",
    "        if not pd.isna(temp):\n",
    "            if not (temp == 1 or temp == 0):\n",
    "                inner_dict[i] = temp\n",
    "    outer_dict[col] = inner_dict"
   ]
  },
  {
   "cell_type": "code",
   "execution_count": null,
   "id": "b841234f-6c49-46f5-bf03-2da082a39bd7",
   "metadata": {},
   "outputs": [],
   "source": [
    "results = {}\n",
    "for col in outer_dict:\n",
    "    keys = []\n",
    "    values = []\n",
    "    for key, value in outer_dict[col].items():\n",
    "        keys.append(key)\n",
    "        values.append(value)\n",
    "    results[col] = stats.pearsonr(keys, values)\n",
    "results"
   ]
  },
  {
   "cell_type": "code",
   "execution_count": null,
   "id": "e4a8cd18-1ace-46d7-8b92-e0f665ccf9a5",
   "metadata": {},
   "outputs": [],
   "source": [
    "pvalue_cutoff = 0.05\n",
    "statistic_cutoff = 0.5\n",
    "important_results = {col:results[col] for col in results if (results[col].pvalue < pvalue_cutoff and np.abs(results[col].statistic) > statistic_cutoff)}\n",
    "important_results"
   ]
  },
  {
   "cell_type": "code",
   "execution_count": null,
   "id": "95c87fac-302d-455f-bcaa-41008769cc40",
   "metadata": {},
   "outputs": [],
   "source": [
    "finding_metric[\"PTS\"].max()"
   ]
  },
  {
   "cell_type": "code",
   "execution_count": null,
   "id": "9e48350b-13d7-4068-bf57-228f1345c182",
   "metadata": {},
   "outputs": [],
   "source": [
    "all_players_df = nba_df.loc[nba_df[\"Season\"] > 1984]\n",
    "all_players_df.head()"
   ]
  },
  {
   "cell_type": "code",
   "execution_count": null,
   "id": "1ccdeaf2-79f4-4ea9-bce6-25571e75b51a",
   "metadata": {},
   "outputs": [],
   "source": [
    "year_1985_df = all_players_df.loc[(all_players_df[\"Season\"] == 1985) & (all_players_df[\"PTS\"] > 0)]\n",
    "year_1985_df = year_1985_df.sort_values(\"PTS\", ascending=False)\n",
    "\n",
    "avg_pts_1985 = year_1985_df[\"PTS\"].mean()\n",
    "year_1985_df.head()\n",
    "# percent_above = year_1985_df.loc[year_1985_df[]]"
   ]
  },
  {
   "cell_type": "code",
   "execution_count": null,
   "id": "579ff5e2-a829-4d7e-9398-565eee707d5b",
   "metadata": {},
   "outputs": [],
   "source": [
    "specific_player_df = nba_df.loc[(nba_df[\"Player\"] == \"LeBron James\") | (nba_df[\"Player\"] == \"Michael Jordan\")]\n",
    "specific_player_df"
   ]
  },
  {
   "cell_type": "code",
   "execution_count": null,
   "id": "921b9c60-254f-4075-8138-f4b461eaaf34",
   "metadata": {},
   "outputs": [],
   "source": [
    "#Lifetime Total Stats of each player (as of 2022 LeBron James/seasons)\n",
    "total_games = specific_player_df[\"G\"].groupby(specific_player_df[\"Player\"]).sum()\n",
    "total_mins = specific_player_df[\"MP\"].groupby(specific_player_df[\"Player\"]).sum()\n",
    "total_pts = specific_player_df[\"PTS\"].groupby(specific_player_df[\"Player\"]).sum()\n",
    "total_reb = specific_player_df[\"TRB\"].groupby(specific_player_df[\"Player\"]).sum()\n",
    "total_ast = specific_player_df[\"AST\"].groupby(specific_player_df[\"Player\"]).sum()\n",
    "total_stl = specific_player_df[\"STL\"].groupby(specific_player_df[\"Player\"]).sum()\n",
    "total_blk = specific_player_df[\"BLK\"].groupby(specific_player_df[\"Player\"]).sum()\n",
    "total_tov = specific_player_df[\"TOV\"].groupby(specific_player_df[\"Player\"]).sum()\n",
    "total_summary_df = pd.DataFrame({\"Total Games Played\": total_games, \"Total Mins Played\": total_mins, \"Total Points Scored\": total_pts,\n",
    "                           \"Total Rebounds\": total_reb, \"Total Assists\": total_ast, \"Total Steals\": total_stl, \"Total Blocks\": total_blk, \n",
    "                           \"Total Turnovers\": total_tov})\n",
    "total_summary_df"
   ]
  },
  {
   "cell_type": "code",
   "execution_count": null,
   "id": "047fb9bc-4cbd-436b-ab64-73b0ecb7e130",
   "metadata": {},
   "outputs": [],
   "source": [
    "#Lifetime Average Stats of each player (as of 2022 LeBron James/seasons)\n",
    "mean_games = specific_player_df[\"G\"].groupby(specific_player_df[\"Player\"]).mean()\n",
    "mean_fgp = specific_player_df[\"FG%\"].groupby(specific_player_df[\"Player\"]).mean()\n",
    "mean_3pc = specific_player_df[\"3P%\"].groupby(specific_player_df[\"Player\"]).mean()\n",
    "mean_2pc = specific_player_df[\"2P%\"].groupby(specific_player_df[\"Player\"]).mean()\n",
    "mean_mins = specific_player_df[\"MP\"].groupby(specific_player_df[\"Player\"]).mean()\n",
    "mean_pts = specific_player_df[\"PTS\"].groupby(specific_player_df[\"Player\"]).mean()\n",
    "mean_reb = specific_player_df[\"TRB\"].groupby(specific_player_df[\"Player\"]).mean()\n",
    "mean_ast = specific_player_df[\"AST\"].groupby(specific_player_df[\"Player\"]).mean()\n",
    "mean_stl = specific_player_df[\"STL\"].groupby(specific_player_df[\"Player\"]).mean()\n",
    "mean_blk = specific_player_df[\"BLK\"].groupby(specific_player_df[\"Player\"]).mean()\n",
    "mean_tov = specific_player_df[\"TOV\"].groupby(specific_player_df[\"Player\"]).mean()\n",
    "mean_summary_df = pd.DataFrame({\"Avg. Games Played\": mean_games, \"Avg. Mins Played\": mean_mins, \"Avg. Points Scored\": mean_pts,\n",
    "                                \"Avg. Field Goal %\": mean_fgp, \"Avg. 3 Point %\": mean_3pc, \"Avg. 2 Point %\": mean_2pc,\n",
    "                           \"Avg. Rebounds\": mean_reb, \"Avg. Assists\": mean_ast, \"Avg. Steals\": mean_stl, \"Avg. Blocks\": mean_blk, \n",
    "                           \"Avg. Turnovers\": mean_tov})\n",
    "mean_summary_df"
   ]
  },
  {
   "cell_type": "code",
   "execution_count": null,
   "id": "9d1130d4-2545-44a2-9d40-4c6bed00fb76",
   "metadata": {},
   "outputs": [],
   "source": [
    "mj_specific_player_df = specific_player_df.loc[(specific_player_df[\"Player\"] == \"Michael Jordan\")]\n",
    "mj_efficiency = mj_specific_player_df[\"PTS\"] / mj_specific_player_df[\"MP\"]\n",
    "mj_efficiency = mj_efficiency.reset_index(drop = True)\n",
    "mj_efficiency"
   ]
  },
  {
   "cell_type": "code",
   "execution_count": null,
   "id": "73a4ce10-75a4-48c6-a4fe-5c2149d9c12f",
   "metadata": {},
   "outputs": [],
   "source": [
    "lj_specific_player_df = specific_player_df.loc[(specific_player_df[\"Player\"] == \"LeBron James\")]\n",
    "lj_efficiency = lj_specific_player_df[\"PTS\"] / lj_specific_player_df[\"MP\"]\n",
    "lj_efficiency = lj_efficiency.reset_index(drop = True)\n",
    "lj_efficiency"
   ]
  },
  {
   "cell_type": "code",
   "execution_count": null,
   "id": "d9256c4f-9692-4516-ae7e-070da67aea04",
   "metadata": {},
   "outputs": [],
   "source": [
    "mj_plot, = plt.plot(range(len(mj_efficiency)), mj_efficiency, color=\"red\", label=\"Michael Jordan\")\n",
    "lj_plot, = plt.plot(range(len(lj_efficiency)), lj_efficiency, color=\"purple\", label=\"LeBron James\")\n",
    "plt.xticks(range(len(lj_efficiency)))\n",
    "plt.xlabel(\"Per Season\")\n",
    "plt.ylabel(\"Points Per Minute Played\")\n",
    "plt.legend(handles=[mj_plot, lj_plot], loc=\"best\")\n",
    "plt.savefig(\"Charts/efficiency_pts_min.png\")\n",
    "plt.show()"
   ]
  },
  {
   "cell_type": "code",
   "execution_count": null,
   "id": "46ce239a-f724-41ad-b136-d365c201e968",
   "metadata": {},
   "outputs": [],
   "source": [
    "each_game_stats = pd.read_csv(\"NBA_Data/MJ_LJ_Games.csv\")\n",
    "each_game_stats.head()  "
   ]
  },
  {
   "cell_type": "code",
   "execution_count": null,
   "id": "db5f9808-7a0b-4cca-b0d2-97851635c2df",
   "metadata": {},
   "outputs": [],
   "source": [
    "each_game_stats.rename(columns={\"PLAYER_NAME\": \"Player\", \"FG_PCT\": \"FG%\", \"FG3_PCT\": \"3P%\"}, inplace=True)\n",
    "each_game_stats"
   ]
  },
  {
   "cell_type": "code",
   "execution_count": null,
   "id": "f994d6bd-9e4a-4de3-b57b-f1ca9b32e5f4",
   "metadata": {},
   "outputs": [],
   "source": [
    "each_game_stats = each_game_stats[[\"Season\", \"Player\", \"MATCHUP\", \"WL\", \"PTS\", \"FG%\", \"OREB\", \"DREB\", \"AST\", \"STL\", \"BLK\", \"TOV\"]]\n",
    "each_game_stats.head()"
   ]
  },
  {
   "cell_type": "code",
   "execution_count": null,
   "id": "c8100c40-5a5c-46b7-b3bf-32020909079c",
   "metadata": {},
   "outputs": [],
   "source": [
    "#Check for na values\n",
    "each_game_stats.count()"
   ]
  },
  {
   "cell_type": "code",
   "execution_count": null,
   "id": "efd52306-1963-4b9b-83a9-40a1eccfb551",
   "metadata": {},
   "outputs": [],
   "source": [
    "each_game_stats.dropna(inplace=True)"
   ]
  },
  {
   "cell_type": "code",
   "execution_count": null,
   "id": "1f8b5d71-8460-43a6-8c42-4dec68194348",
   "metadata": {},
   "outputs": [],
   "source": [
    "each_game_stats.count()"
   ]
  },
  {
   "cell_type": "code",
   "execution_count": null,
   "id": "fcdc075d",
   "metadata": {},
   "outputs": [],
   "source": [
    "#Calculating linear regression for MJ, points per game\n",
    "# Filter the DataFrame for \"Michael Jordan\"\n",
    "michael_jordan_stats = each_game_stats[each_game_stats['Player'] == 'Michael Jordan']\n",
    "\n",
    "# Create a scatter plot for the \"PTS\" column\n",
    "plt.figure(figsize=(10, 6))\n",
    "plt.scatter(michael_jordan_stats.index, michael_jordan_stats['PTS'], color='orange', label='PTS')\n",
    "plt.title('Michael Jordan - Points per Game')\n",
    "plt.xlabel('Game Number')\n",
    "plt.ylabel('Points')\n",
    "plt.legend()\n",
    "plt.grid(True)\n",
    "\n",
    "# Calculate the linear regression line\n",
    "slope, intercept, r_value, p_value, std_err = stats.linregress(michael_jordan_stats.index, michael_jordan_stats['PTS'])\n",
    "\n",
    "# Calculate the regression line for the entire x-axis range\n",
    "x_range = range(1, 1501)  # Define the full x-axis range\n",
    "regression_line = slope * x_range + intercept\n",
    "\n",
    "\n",
    "# Plot the linear regression line for the full x-axis range\n",
    "plt.plot(x_range, regression_line, color='black', label='Linear Regression')\n",
    "\n",
    "# Plot the linear regression line\n",
    "plt.legend()\n",
    "plt.savefig('Charts/mj_pts_regression.png')\n",
    "plt.show()"
   ]
  },
  {
   "cell_type": "code",
   "execution_count": null,
   "id": "2519b14d",
   "metadata": {},
   "outputs": [],
   "source": [
    "#Calculating linear regression for LJ, points per game\n",
    "# Filter the DataFrame for \"Michael Jordan\"\n",
    "lebron_james_stats = each_game_stats[each_game_stats['Player'] == 'LeBron James']\n",
    "\n",
    "# Create a scatter plot for the \"PTS\" column\n",
    "plt.figure(figsize=(10, 6))\n",
    "plt.scatter(lebron_james_stats.index, lebron_james_stats['PTS'], color='#CBC3E3', label='PTS')\n",
    "plt.title('LeBron James - Points per Game')\n",
    "plt.xlabel('Game Number')\n",
    "plt.ylabel('Points')\n",
    "plt.legend()\n",
    "plt.grid(True)\n",
    "\n",
    "# Calculate the linear regression line\n",
    "slope, intercept, r_value, p_value, std_err = stats.linregress(lebron_james_stats.index, lebron_james_stats['PTS'])\n",
    "\n",
    "# Print the slope of the linear regression line\n",
    "print(\"Linear Regression Slope:\", slope)\n",
    "\n",
    "regression_line = slope * lebron_james_stats.index + intercept\n",
    "\n",
    "# Plot the linear regression line\n",
    "plt.plot(lebron_james_stats.index, regression_line, color='black', label='Linear Regression')\n",
    "plt.savefig('Charts/lj_pts_regression.png')\n",
    "plt.legend()\n",
    "plt.show()"
   ]
  },
  {
   "cell_type": "code",
   "execution_count": null,
   "id": "2926b262-bd52-4b07-a4d1-706d7eb33a6b",
   "metadata": {},
   "outputs": [],
   "source": [
    "#Lifetime Points Stats (Offensive/each game)\n",
    "mean_pts = each_game_stats[\"PTS\"].groupby(each_game_stats[\"Player\"]).mean()\n",
    "median_pts = each_game_stats[\"PTS\"].groupby(each_game_stats[\"Player\"]).median()\n",
    "var_pts = each_game_stats[\"PTS\"].groupby(each_game_stats[\"Player\"]).var()\n",
    "std_dev_pts = each_game_stats[\"PTS\"].groupby(each_game_stats[\"Player\"]).std()\n",
    "std_err_pts = each_game_stats[\"PTS\"].groupby(each_game_stats[\"Player\"]).sem()\n",
    "\n",
    "summary_lifetime_pts_df = pd.DataFrame({\"Mean Points Scored\": mean_pts, \"Median Points Scored\": median_pts, \"Variance of Points Scored\": var_pts,\n",
    "                               \"Std. Dev of Points Scored\": std_dev_pts, \"Std. Error of Points Scored\": std_err_pts})\n",
    "summary_lifetime_pts_df"
   ]
  },
  {
   "cell_type": "code",
   "execution_count": null,
   "id": "e16ec2fd-91b0-416c-bfce-9c17f6ff32eb",
   "metadata": {},
   "outputs": [],
   "source": [
    "#Lifetime Field Goal % (Offensive/each game)\n",
    "mean_fgp = each_game_stats[\"FG%\"].groupby(each_game_stats[\"Player\"]).mean()\n",
    "median_fgp = each_game_stats[\"FG%\"].groupby(each_game_stats[\"Player\"]).median()\n",
    "var_fgp = each_game_stats[\"FG%\"].groupby(each_game_stats[\"Player\"]).var()\n",
    "std_dev_fgp = each_game_stats[\"FG%\"].groupby(each_game_stats[\"Player\"]).std()\n",
    "std_err_fgp = each_game_stats[\"FG%\"].groupby(each_game_stats[\"Player\"]).sem()\n",
    "\n",
    "summary_lifetime_fgp_df = pd.DataFrame({\"Mean Field Goal %\": mean_fgp, \"Median Field Goal %\": median_fgp, \"Variance of Field Goal %\": var_fgp,\n",
    "                               \"Std. Dev of Field Goal %\": std_dev_fgp, \"Std. Error of Field Goal %\": std_err_fgp})\n",
    "summary_lifetime_fgp_df"
   ]
  },
  {
   "cell_type": "code",
   "execution_count": null,
   "id": "0e86d17a-f796-433e-ae57-7123e84af082",
   "metadata": {},
   "outputs": [],
   "source": [
    "#Lifetime Offensive Rebounds (Offensive/each game)\n",
    "mean_oreb = each_game_stats[\"OREB\"].groupby(each_game_stats[\"Player\"]).mean()\n",
    "median_oreb = each_game_stats[\"OREB\"].groupby(each_game_stats[\"Player\"]).median()\n",
    "var_oreb = each_game_stats[\"OREB\"].groupby(each_game_stats[\"Player\"]).var()\n",
    "std_dev_oreb = each_game_stats[\"OREB\"].groupby(each_game_stats[\"Player\"]).std()\n",
    "std_err_oreb = each_game_stats[\"OREB\"].groupby(each_game_stats[\"Player\"]).sem()\n",
    "\n",
    "summary_lifetime_oreb_df = pd.DataFrame({\"Mean Offensive Rebounds\": mean_oreb, \"Median Offensive Rebounds\": median_oreb,\n",
    "                                     \"Variance of Offensive Rebounds\": var_oreb, \"Std. Dev of Offensive Rebounds\": std_dev_oreb,\n",
    "                                     \"Std. Error of Offensive Rebounds\": std_err_oreb})\n",
    "summary_lifetime_oreb_df"
   ]
  },
  {
   "cell_type": "code",
   "execution_count": null,
   "id": "dee7142e-b02e-4c7c-89b9-9cde3bd95c4d",
   "metadata": {},
   "outputs": [],
   "source": [
    "#Lifetime Assists (Offensive/each game)\n",
    "mean_ast = each_game_stats[\"AST\"].groupby(each_game_stats[\"Player\"]).mean()\n",
    "median_ast = each_game_stats[\"AST\"].groupby(each_game_stats[\"Player\"]).median()\n",
    "var_ast = each_game_stats[\"AST\"].groupby(each_game_stats[\"Player\"]).var()\n",
    "std_dev_ast = each_game_stats[\"AST\"].groupby(each_game_stats[\"Player\"]).std()\n",
    "std_err_ast = each_game_stats[\"AST\"].groupby(each_game_stats[\"Player\"]).sem()\n",
    "\n",
    "summary_lifetime_ast_df = pd.DataFrame({\"Mean Assists\": mean_ast, \"Median Assists\": median_ast,\n",
    "                                     \"Variance of Assists\": var_ast, \"Std. Dev of Assists\": std_dev_ast,\n",
    "                                     \"Std. Error of Assists\": std_err_ast})\n",
    "summary_lifetime_ast_df"
   ]
  },
  {
   "cell_type": "code",
   "execution_count": null,
   "id": "4e569b3f-6211-47fa-b80f-3420f247c555",
   "metadata": {},
   "outputs": [],
   "source": [
    "combined_offensive1 = pd.merge(summary_lifetime_pts_df, summary_lifetime_ast_df, on = \"Player\")\n",
    "combined_offensive1 = pd.merge(combined_offensive1, summary_lifetime_oreb_df, on = \"Player\")\n",
    "mean_values_chart1 = combined_offensive1[[\"Mean Points Scored\", \"Mean Assists\", \"Mean Offensive Rebounds\"]]\n",
    "mean_values_chart1.plot(kind=\"bar\")\n",
    "plt.xticks(rotation = 45)\n",
    "plt.legend(loc=\"upper center\", bbox_to_anchor=(0.4, 1.015))\n",
    "plt.savefig(\"Charts/offensive1.png\")\n",
    "plt.show()"
   ]
  },
  {
   "cell_type": "code",
   "execution_count": null,
   "id": "ccc13c9a-9bb8-4ff3-96eb-95474bd1cb17",
   "metadata": {},
   "outputs": [],
   "source": [
    "mean_values_chart2 = summary_lifetime_fgp_df[\"Mean Field Goal %\"]\n",
    "mean_values_chart2.plot(kind=\"bar\")\n",
    "plt.xticks(rotation = 45)\n",
    "plt.legend(loc=\"upper center\", bbox_to_anchor=(0.50, 1))\n",
    "plt.savefig(\"Charts/offensive2.png\")\n",
    "plt.show()"
   ]
  },
  {
   "cell_type": "code",
   "execution_count": null,
   "id": "8966439b-9229-4dc6-aabf-41744ecfd669",
   "metadata": {},
   "outputs": [],
   "source": [
    "#Lifetime Defensive Rebounds (Defensive/each game)\n",
    "mean_dreb = each_game_stats[\"DREB\"].groupby(each_game_stats[\"Player\"]).mean()\n",
    "median_dreb = each_game_stats[\"DREB\"].groupby(each_game_stats[\"Player\"]).median()\n",
    "var_dreb = each_game_stats[\"DREB\"].groupby(each_game_stats[\"Player\"]).var()\n",
    "std_dev_dreb = each_game_stats[\"DREB\"].groupby(each_game_stats[\"Player\"]).std()\n",
    "std_err_dreb = each_game_stats[\"DREB\"].groupby(each_game_stats[\"Player\"]).sem()\n",
    "\n",
    "summary_lifetime_dreb_df = pd.DataFrame({\"Mean Defensive Rebounds\": mean_dreb, \"Median Defensive Rebounds\": median_dreb,\n",
    "                                     \"Variance of Defensive Rebounds\": var_dreb, \"Std. Dev of Defensive Rebounds\": std_dev_dreb,\n",
    "                                     \"Std. Error of Defensive Rebounds\": std_err_dreb})\n",
    "summary_lifetime_dreb_df"
   ]
  },
  {
   "cell_type": "code",
   "execution_count": null,
   "id": "8e95fc37-8eec-41af-bc01-9f429f7d0e4b",
   "metadata": {},
   "outputs": [],
   "source": [
    "#Lifetime Steals (Defensive/each game)\n",
    "mean_stl = each_game_stats[\"STL\"].groupby(each_game_stats[\"Player\"]).mean()\n",
    "median_stl = each_game_stats[\"STL\"].groupby(each_game_stats[\"Player\"]).median()\n",
    "var_stl = each_game_stats[\"STL\"].groupby(each_game_stats[\"Player\"]).var()\n",
    "std_dev_stl = each_game_stats[\"STL\"].groupby(each_game_stats[\"Player\"]).std()\n",
    "std_err_stl = each_game_stats[\"STL\"].groupby(each_game_stats[\"Player\"]).sem()\n",
    "\n",
    "summary_lifetime_stl_df = pd.DataFrame({\"Mean Steals\": mean_stl, \"Median Steals\": median_stl,\n",
    "                                     \"Variance of Steals\": var_stl, \"Std. Dev of Steals\": std_dev_stl,\n",
    "                                     \"Std. Error of Steals\": std_err_stl})\n",
    "summary_lifetime_stl_df"
   ]
  },
  {
   "cell_type": "code",
   "execution_count": null,
   "id": "535e5399-dcec-46d8-986d-a9a9d280fef4",
   "metadata": {},
   "outputs": [],
   "source": [
    "#Lifetime Blocks (Defensive/each game)\n",
    "mean_blk = each_game_stats[\"BLK\"].groupby(each_game_stats[\"Player\"]).mean()\n",
    "median_blk = each_game_stats[\"BLK\"].groupby(each_game_stats[\"Player\"]).median()\n",
    "var_blk = each_game_stats[\"BLK\"].groupby(each_game_stats[\"Player\"]).var()\n",
    "std_dev_blk = each_game_stats[\"BLK\"].groupby(each_game_stats[\"Player\"]).std()\n",
    "std_err_blk = each_game_stats[\"BLK\"].groupby(each_game_stats[\"Player\"]).sem()\n",
    "\n",
    "summary_lifetime_blk_df = pd.DataFrame({\"Mean Blocks\": mean_blk, \"Median Blocks\": median_blk,\n",
    "                                     \"Variance of Blocks\": var_blk, \"Std. Dev of Blocks\": std_dev_blk,\n",
    "                                     \"Std. Error of Blocks\": std_err_blk})\n",
    "summary_lifetime_blk_df"
   ]
  },
  {
   "cell_type": "code",
   "execution_count": null,
   "id": "73faaeb4-3001-4ea9-bed0-c14178a269e3",
   "metadata": {},
   "outputs": [],
   "source": [
    "combined_def_stats = pd.merge(summary_lifetime_dreb_df, summary_lifetime_stl_df, on=\"Player\")\n",
    "combined_def_stats = pd.merge(combined_def_stats, summary_lifetime_blk_df, on=\"Player\")\n",
    "mean_def_chart = combined_def_stats[[\"Mean Defensive Rebounds\", \"Mean Steals\", \"Mean Blocks\"]]\n",
    "mean_def_chart.plot.barh()\n",
    "plt.legend(loc=\"upper left\", bbox_to_anchor=(0.50, 1))\n",
    "plt.savefig(\"Charts/defensive.png\")\n",
    "plt.show()"
   ]
  },
  {
   "cell_type": "code",
   "execution_count": null,
   "id": "0aa1a598-786c-4eaa-9e55-8ea48f40e0ea",
   "metadata": {},
   "outputs": [],
   "source": [
    "#Lifetime Turnover (misc/each game)\n",
    "mean_tov = each_game_stats[\"TOV\"].groupby(each_game_stats[\"Player\"]).mean()\n",
    "median_tov = each_game_stats[\"TOV\"].groupby(each_game_stats[\"Player\"]).median()\n",
    "var_tov = each_game_stats[\"TOV\"].groupby(each_game_stats[\"Player\"]).var()\n",
    "std_dev_tov = each_game_stats[\"TOV\"].groupby(each_game_stats[\"Player\"]).std()\n",
    "std_err_tov = each_game_stats[\"TOV\"].groupby(each_game_stats[\"Player\"]).sem()\n",
    "\n",
    "summary_lifetime_tov_df = pd.DataFrame({\"Mean Turnovers\": mean_tov, \"Median Turnovers\": median_tov,\n",
    "                                     \"Variance of Turnovers\": var_tov, \"Std. Dev of Turnovers\": std_dev_tov,\n",
    "                                     \"Std. Error of Turnovers\": std_err_tov})\n",
    "summary_lifetime_tov_df"
   ]
  },
  {
   "cell_type": "code",
   "execution_count": null,
   "id": "6cb2e2d1-4404-4053-848a-c156ed0ed47a",
   "metadata": {},
   "outputs": [],
   "source": [
    "mj_stats = each_game_stats.loc[each_game_stats[\"Season\"] == 1991]\n",
    "mj_stats"
   ]
  },
  {
   "cell_type": "code",
   "execution_count": null,
   "id": "ca381ba7-607d-4d1d-970b-0ac31c9351bd",
   "metadata": {},
   "outputs": [],
   "source": [
    "#PTS stats when MJ won championship 1991 (age 27) **offensive stats\n",
    "mean_pts_mj = mj_stats[\"PTS\"].groupby(mj_stats[\"Player\"]).mean() \n",
    "median_pts_mj = mj_stats[\"PTS\"].groupby(mj_stats[\"Player\"]).median()\n",
    "var_pts_mj = mj_stats[\"PTS\"].groupby(mj_stats[\"Player\"]).var()\n",
    "std_dev_pts_mj = mj_stats[\"PTS\"].groupby(mj_stats[\"Player\"]).std()\n",
    "std_err_pts_mj = mj_stats[\"PTS\"].groupby(mj_stats[\"Player\"]).sem()\n",
    "\n",
    "summary_1991_pts_df = pd.DataFrame({\"Mean Points Scored\": mean_pts_mj, \"Median Points Scored\": median_pts_mj, \"Variance of Points Scored\": var_pts_mj,\n",
    "                               \"Std. Dev of Points Scored\": std_dev_pts_mj, \"Std. Error of Points Scored\": std_err_pts_mj})\n",
    "summary_1991_pts_df"
   ]
  },
  {
   "cell_type": "code",
   "execution_count": null,
   "id": "b4349300-07bb-41f0-b5f4-5f7dada8e57b",
   "metadata": {},
   "outputs": [],
   "source": [
    "#FG% stats when MJ won championship 1991 (age 27) **offensive stats\n",
    "mean_fgp_mj = mj_stats[\"FG%\"].groupby(mj_stats[\"Player\"]).mean()\n",
    "median_fgp_mj = mj_stats[\"FG%\"].groupby(mj_stats[\"Player\"]).median()\n",
    "var_fgp_mj = mj_stats[\"FG%\"].groupby(mj_stats[\"Player\"]).var()\n",
    "std_dev_fgp_mj = mj_stats[\"FG%\"].groupby(mj_stats[\"Player\"]).std()\n",
    "std_err_fgp_mj = mj_stats[\"FG%\"].groupby(mj_stats[\"Player\"]).sem()\n",
    "\n",
    "summary_1991_fgp_df = pd.DataFrame({\"Mean Field Goal %\": mean_fgp_mj, \"Median Field Goal %\": median_fgp_mj, \"Variance of Field Goal %\": var_fgp_mj,\n",
    "                               \"Std. Dev of Field Goal %\": std_dev_fgp_mj, \"Std. Error of Field Goal %\": std_err_fgp_mj})\n",
    "summary_1991_fgp_df"
   ]
  },
  {
   "cell_type": "code",
   "execution_count": null,
   "id": "31dcc944-2d79-4181-8a47-cff5c8833cd2",
   "metadata": {},
   "outputs": [],
   "source": [
    "#OREB stats when MJ won championship 1991 (age 27) **offensive stats\n",
    "mean_oreb_mj = mj_stats[\"OREB\"].groupby(mj_stats[\"Player\"]).mean()\n",
    "median_oreb_mj = mj_stats[\"OREB\"].groupby(mj_stats[\"Player\"]).median()\n",
    "var_oreb_mj = mj_stats[\"OREB\"].groupby(mj_stats[\"Player\"]).var()\n",
    "std_dev_oreb_mj = mj_stats[\"OREB\"].groupby(mj_stats[\"Player\"]).std()\n",
    "std_err_oreb_mj = mj_stats[\"OREB\"].groupby(mj_stats[\"Player\"]).sem()\n",
    "\n",
    "summary_1991_oreb_df = pd.DataFrame({\"Mean Offensive Rebounds\": mean_oreb_mj, \"Median Offensive Rebounds\": median_oreb_mj,\n",
    "                                     \"Variance of Offensive Rebounds\": var_oreb_mj, \"Std. Dev of Offensive Rebounds\": std_dev_oreb_mj,\n",
    "                                     \"Std. Error of Offensive Rebounds\": std_err_oreb_mj})\n",
    "summary_1991_oreb_df"
   ]
  },
  {
   "cell_type": "code",
   "execution_count": null,
   "id": "8b7e6477-cd02-4c1c-a92b-0c554687a8a5",
   "metadata": {},
   "outputs": [],
   "source": [
    "#AST stats when MJ won championship 1991 (age 27) **offensive stats\n",
    "mean_ast_mj = mj_stats[\"AST\"].groupby(mj_stats[\"Player\"]).mean()\n",
    "median_ast_mj = mj_stats[\"AST\"].groupby(mj_stats[\"Player\"]).median()\n",
    "var_ast_mj = mj_stats[\"AST\"].groupby(mj_stats[\"Player\"]).var()\n",
    "std_dev_ast_mj = mj_stats[\"AST\"].groupby(mj_stats[\"Player\"]).std()\n",
    "std_err_ast_mj = mj_stats[\"AST\"].groupby(mj_stats[\"Player\"]).sem()\n",
    "\n",
    "summary_1991_ast_df = pd.DataFrame({\"Mean Assists\": mean_oreb_mj, \"Median Assists\": median_oreb_mj,\n",
    "                                     \"Variance of Assists\": var_oreb_mj, \"Std. Dev of Assists\": std_dev_oreb_mj,\n",
    "                                     \"Std. Error of Assists\": std_err_oreb_mj})\n",
    "summary_1991_ast_df"
   ]
  },
  {
   "cell_type": "code",
   "execution_count": null,
   "id": "9451b4b2-dadd-4e07-8099-6630abfa29f8",
   "metadata": {},
   "outputs": [],
   "source": [
    "#TOV stats when MJ won championship 1991 (age 27) **offensive stats\n",
    "mean_tov_mj = mj_stats[\"TOV\"].groupby(mj_stats[\"Player\"]).mean()\n",
    "median_tov_mj = mj_stats[\"TOV\"].groupby(mj_stats[\"Player\"]).median()\n",
    "var_tov_mj = mj_stats[\"TOV\"].groupby(mj_stats[\"Player\"]).var()\n",
    "std_dev_tov_mj = mj_stats[\"TOV\"].groupby(mj_stats[\"Player\"]).std()\n",
    "std_err_tov_mj = mj_stats[\"TOV\"].groupby(mj_stats[\"Player\"]).sem()\n",
    "\n",
    "summary_1991_tov_df = pd.DataFrame({\"Mean Turnovers\": mean_tov_mj, \"Median Turnovers\": median_tov_mj,\n",
    "                                     \"Variance of Turnovers\": var_tov_mj, \"Std. Dev of Turnovers\": std_dev_tov_mj,\n",
    "                                     \"Std. Error of Turnovers\": std_err_tov_mj})\n",
    "summary_1991_tov_df"
   ]
  },
  {
   "cell_type": "code",
   "execution_count": null,
   "id": "cff1026b-9e43-4c52-8392-7787f68b36c8",
   "metadata": {},
   "outputs": [],
   "source": [
    "lj_stats = each_game_stats.loc[each_game_stats[\"Season\"] == 2012]\n",
    "lj_stats"
   ]
  },
  {
   "cell_type": "code",
   "execution_count": null,
   "id": "eb87d177-e071-46b7-a1a3-1a95501112a4",
   "metadata": {},
   "outputs": [],
   "source": [
    "#PTS stats when LJ won championship 2012 (age 28) **offensive stats\n",
    "mean_pts_lj = lj_stats[\"PTS\"].groupby(lj_stats[\"Player\"]).mean()\n",
    "median_pts_lj = lj_stats[\"PTS\"].groupby(lj_stats[\"Player\"]).median()\n",
    "var_pts_lj = lj_stats[\"PTS\"].groupby(lj_stats[\"Player\"]).var()\n",
    "std_dev_pts_lj = lj_stats[\"PTS\"].groupby(lj_stats[\"Player\"]).std()\n",
    "std_err_pts_lj = lj_stats[\"PTS\"].groupby(lj_stats[\"Player\"]).sem()\n",
    "\n",
    "summary_2012_pts_df = pd.DataFrame({\"Mean Points Scored\": mean_pts_lj, \"Median Points Scored\": median_pts_lj, \"Variance of Points Scored\": var_pts_lj,\n",
    "                               \"Std. Dev of Points Scored\": std_dev_pts_lj, \"Std. Error of Points Scored\": std_err_pts_lj})\n",
    "summary_2012_pts_df"
   ]
  },
  {
   "cell_type": "code",
   "execution_count": null,
   "id": "1e5841ae-b78a-44ef-934f-84721979d754",
   "metadata": {},
   "outputs": [],
   "source": [
    "#FG% stats when LJ won championship 2012 (age 28) **offensive stats\n",
    "mean_fgp_lj = lj_stats[\"FG%\"].groupby(lj_stats[\"Player\"]).mean()\n",
    "median_fgp_lj = lj_stats[\"FG%\"].groupby(lj_stats[\"Player\"]).median()\n",
    "var_fgp_lj = lj_stats[\"FG%\"].groupby(lj_stats[\"Player\"]).var()\n",
    "std_dev_fgp_lj = lj_stats[\"FG%\"].groupby(lj_stats[\"Player\"]).std()\n",
    "std_err_fgp_lj = lj_stats[\"FG%\"].groupby(lj_stats[\"Player\"]).sem()\n",
    "\n",
    "summary_2012_fgp_df = pd.DataFrame({\"Mean Field Goal %\": mean_fgp_lj, \"Median Field Goal %\": median_fgp_lj, \"Variance of Field Goal %\": var_fgp_lj,\n",
    "                               \"Std. Dev of Field Goal %\": std_dev_fgp_lj, \"Std. Error of Field Goal %\": std_err_fgp_lj})\n",
    "summary_2012_fgp_df"
   ]
  },
  {
   "cell_type": "code",
   "execution_count": null,
   "id": "4550f9f2-2445-4927-b0d6-fce1678339c2",
   "metadata": {},
   "outputs": [],
   "source": [
    "#OREB stats when LJ won championship 2012 (age 28) **offensive stats\n",
    "mean_oreb_lj = lj_stats[\"OREB\"].groupby(lj_stats[\"Player\"]).mean()\n",
    "median_oreb_lj = lj_stats[\"OREB\"].groupby(lj_stats[\"Player\"]).median()\n",
    "var_oreb_lj = lj_stats[\"OREB\"].groupby(lj_stats[\"Player\"]).var()\n",
    "std_dev_oreb_lj = lj_stats[\"OREB\"].groupby(lj_stats[\"Player\"]).std()\n",
    "std_err_oreb_lj = lj_stats[\"OREB\"].groupby(lj_stats[\"Player\"]).sem()\n",
    "\n",
    "summary_2012_oreb_df = pd.DataFrame({\"Mean Offensive Rebounds\": mean_oreb_lj, \"Median Offensive Rebounds\": median_oreb_lj,\n",
    "                                     \"Variance of Offensive Rebounds\": var_oreb_lj, \"Std. Dev of Offensive Rebounds\": std_dev_oreb_lj,\n",
    "                                     \"Std. Error of Offensive Rebounds\": std_err_oreb_lj})\n",
    "summary_2012_oreb_df"
   ]
  },
  {
   "cell_type": "code",
   "execution_count": null,
   "id": "3538558f-0ab5-4a46-8194-813034d5ef1e",
   "metadata": {},
   "outputs": [],
   "source": [
    "#AST stats when LJ won championship 2012 (age 28) **offensive stats\n",
    "mean_ast_lj = lj_stats[\"AST\"].groupby(lj_stats[\"Player\"]).mean()\n",
    "median_ast_lj = lj_stats[\"AST\"].groupby(lj_stats[\"Player\"]).median()\n",
    "var_ast_lj = lj_stats[\"AST\"].groupby(lj_stats[\"Player\"]).var()\n",
    "std_dev_ast_lj = lj_stats[\"AST\"].groupby(lj_stats[\"Player\"]).std()\n",
    "std_err_ast_lj = lj_stats[\"AST\"].groupby(lj_stats[\"Player\"]).sem()\n",
    "\n",
    "summary_2012_ast_df = pd.DataFrame({\"Mean Assists\": mean_ast_lj, \"Median Assists\": median_ast_lj,\n",
    "                                     \"Variance of Assists\": var_ast_lj, \"Std. Dev of Assists\": std_dev_ast_lj,\n",
    "                                     \"Std. Error of Assists\": std_err_ast_lj})\n",
    "summary_2012_ast_df"
   ]
  },
  {
   "cell_type": "code",
   "execution_count": null,
   "id": "a1c4e45e-c433-4fc1-ae3b-cc209c42461f",
   "metadata": {},
   "outputs": [],
   "source": [
    "#TOV stats when LJ won championship 2012 (age 28) **offensive stats\n",
    "mean_tov_lj = lj_stats[\"TOV\"].groupby(lj_stats[\"Player\"]).mean()\n",
    "median_tov_lj = lj_stats[\"TOV\"].groupby(lj_stats[\"Player\"]).median()\n",
    "var_tov_lj = lj_stats[\"TOV\"].groupby(lj_stats[\"Player\"]).var()\n",
    "std_dev_tov_lj = lj_stats[\"TOV\"].groupby(lj_stats[\"Player\"]).std()\n",
    "std_err_tov_lj = lj_stats[\"TOV\"].groupby(lj_stats[\"Player\"]).sem()\n",
    "\n",
    "summary_2012_tov_df = pd.DataFrame({\"Mean Turnovers\": mean_ast_lj, \"Median Turnovers\": median_ast_lj,\n",
    "                                     \"Variance of Turnovers\": var_ast_lj, \"Std. Dev of Turnovers\": std_dev_ast_lj,\n",
    "                                     \"Std. Error of Turnovers\": std_err_ast_lj})\n",
    "summary_2012_tov_df"
   ]
  },
  {
   "cell_type": "code",
   "execution_count": null,
   "id": "46393d78-5fd2-4f38-ac0c-e1ccc5e5d226",
   "metadata": {},
   "outputs": [],
   "source": [
    "champ_combined = pd.merge(summary_1991_pts_df, summary_2012_pts_df, how=\"outer\")\n",
    "champ_combined"
   ]
  },
  {
   "cell_type": "code",
   "execution_count": null,
   "id": "8ff25fac-ff69-4650-95eb-e2dcfabedf87",
   "metadata": {},
   "outputs": [],
   "source": [
    "combined_best_season = specific_player_df.loc[(specific_player_df[\"Season\"] == 1988) | (specific_player_df[\"Season\"] == 2010)]\n",
    "combined_best_season = combined_best_season.set_index(\"Player\")\n",
    "combined_best_season"
   ]
  },
  {
   "cell_type": "code",
   "execution_count": null,
   "id": "34f9ab33-24cb-47e2-9ff3-461f0f50d972",
   "metadata": {},
   "outputs": [],
   "source": [
    "combined_best_plot = combined_best_season[[\"DRB\", \"STL\", \"BLK\"]]\n",
    "combined_best_plot[\"DRB\"] = combined_best_season[\"DRB\"] / combined_best_season[\"MP\"]\n",
    "combined_best_plot[\"STL\"] = combined_best_season[\"STL\"] / combined_best_season[\"MP\"]\n",
    "combined_best_plot[\"BLK\"] = combined_best_season[\"BLK\"] / combined_best_season[\"MP\"]\n",
    "combined_best_plot.plot.barh()\n",
    "plt.legend(loc=\"upper left\", bbox_to_anchor=(0.50, 1))\n",
    "plt.title(\"Best Season Defensive Stats (per minute played)\")\n",
    "plt.savefig(\"Charts/defensive_best_season.png\")\n",
    "plt.show()"
   ]
  },
  {
   "cell_type": "code",
   "execution_count": null,
   "id": "48354e00-8992-4f4c-b2e9-6b4fb7b5053f",
   "metadata": {},
   "outputs": [],
   "source": [
    "fgp_best_season = combined_best_season[\"FG%\"]\n",
    "fgp_best_season.plot(kind=\"bar\")\n",
    "plt.xticks(rotation = 45)\n",
    "plt.legend(loc=\"upper center\", bbox_to_anchor=(0.50, 1))\n",
    "plt.savefig(\"Charts/fgp_best_season.png\")\n",
    "plt.show()"
   ]
  },
  {
   "cell_type": "code",
   "execution_count": null,
   "id": "8b6d37d2-a4ca-4c2f-9aa3-73bb009521bf",
   "metadata": {},
   "outputs": [],
   "source": [
    "offensive_best_season = combined_best_season[[\"PTS\", \"AST\", \"ORB\"]]\n",
    "offensive_best_season[\"PTS\"] = combined_best_season[\"PTS\"] / combined_best_season[\"MP\"]\n",
    "offensive_best_season[\"AST\"] = combined_best_season[\"AST\"] / combined_best_season[\"MP\"]\n",
    "offensive_best_season[\"ORB\"] = combined_best_season[\"ORB\"] / combined_best_season[\"MP\"]\n",
    "offensive_best_season = offensive_best_season.rename(columns={\"PTS\": \"Points\", \"AST\": \"Assists\", \"ORB\": \"Offensive Rebounds\"})\n",
    "offensive_best_season.plot(kind=\"bar\")\n",
    "plt.xticks(rotation = 45)\n",
    "plt.legend(loc=\"upper center\", bbox_to_anchor=(0.4, 1.015))\n",
    "plt.title(\"Best Season Offensive Stats (per minute played)\")\n",
    "plt.savefig(\"Charts/offensive_best_season.png\")\n",
    "plt.show()"
   ]
  },
  {
   "cell_type": "code",
   "execution_count": null,
   "id": "ea2809fb-a380-4812-bcb7-29e247adebf5",
   "metadata": {},
   "outputs": [],
   "source": []
  }
 ],
 "metadata": {
  "kernelspec": {
   "display_name": "Python 3 (ipykernel)",
   "language": "python",
   "name": "python3"
  },
  "language_info": {
   "codemirror_mode": {
    "name": "ipython",
    "version": 3
   },
   "file_extension": ".py",
   "mimetype": "text/x-python",
   "name": "python",
   "nbconvert_exporter": "python",
   "pygments_lexer": "ipython3",
   "version": "3.11.5"
  }
 },
 "nbformat": 4,
 "nbformat_minor": 5
}
