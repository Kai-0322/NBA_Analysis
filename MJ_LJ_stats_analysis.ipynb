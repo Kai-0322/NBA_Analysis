{
 "cells": [
  {
   "cell_type": "code",
   "execution_count": null,
   "id": "bf44a7b4-cc46-414b-a138-6539f72196e7",
   "metadata": {},
   "outputs": [],
   "source": [
    "import pandas as pd\n",
    "from matplotlib import pyplot as plt\n",
    "import numpy as np"
   ]
  },
  {
   "cell_type": "code",
   "execution_count": null,
   "id": "14cc98a7-e9ab-43a1-830d-0b8cba880d01",
   "metadata": {},
   "outputs": [],
   "source": [
    "nba_df = pd.read_csv(\"NBA_Data/NBA Player Stats(1950 - 2022).csv\")\n",
    "nba_df = nba_df[[\"Season\", \"Player\", \"G\", \"FG%\", \"3P%\", \"2P%\", \"MP\", \"PTS\", \"ORB\", \"DRB\", \"TRB\", \"AST\", \"STL\", \"BLK\", \"TOV\"]]\n",
    "                  "
   ]
  },
  {
   "cell_type": "code",
   "execution_count": null,
   "id": "579ff5e2-a829-4d7e-9398-565eee707d5b",
   "metadata": {},
   "outputs": [],
   "source": [
    "specific_player_df = nba_df.loc[(nba_df[\"Player\"] == \"LeBron James\") | (nba_df[\"Player\"] == \"Michael Jordan\")]\n",
    "specific_player_df.head()"
   ]
  },
  {
   "cell_type": "code",
   "execution_count": null,
   "id": "921b9c60-254f-4075-8138-f4b461eaaf34",
   "metadata": {},
   "outputs": [],
   "source": [
    "#Lifetime Total Stats of each player (as of 2022 LeBron James/seasons)\n",
    "total_games = specific_player_df[\"G\"].groupby(specific_player_df[\"Player\"]).sum()\n",
    "total_mins = specific_player_df[\"MP\"].groupby(specific_player_df[\"Player\"]).sum()\n",
    "total_pts = specific_player_df[\"PTS\"].groupby(specific_player_df[\"Player\"]).sum()\n",
    "total_reb = specific_player_df[\"TRB\"].groupby(specific_player_df[\"Player\"]).sum()\n",
    "total_ast = specific_player_df[\"AST\"].groupby(specific_player_df[\"Player\"]).sum()\n",
    "total_stl = specific_player_df[\"STL\"].groupby(specific_player_df[\"Player\"]).sum()\n",
    "total_blk = specific_player_df[\"BLK\"].groupby(specific_player_df[\"Player\"]).sum()\n",
    "total_tov = specific_player_df[\"TOV\"].groupby(specific_player_df[\"Player\"]).sum()\n",
    "total_summary_df = pd.DataFrame({\"Total Games Played\": total_games, \"Total Mins Played\": total_mins, \"Total Points Scored\": total_pts,\n",
    "                           \"Total Rebounds\": total_reb, \"Total Assists\": total_ast, \"Total Steals\": total_stl, \"Total Blocks\": total_blk, \n",
    "                           \"Total Turnovers\": total_tov})\n",
    "total_summary_df"
   ]
  },
  {
   "cell_type": "code",
   "execution_count": null,
   "id": "047fb9bc-4cbd-436b-ab64-73b0ecb7e130",
   "metadata": {},
   "outputs": [],
   "source": [
    "#Lifetime Average Stats of each player (as of 2022 LeBron James/seasons)\n",
    "mean_games = specific_player_df[\"G\"].groupby(specific_player_df[\"Player\"]).mean()\n",
    "mean_fgp = specific_player_df[\"FG%\"].groupby(specific_player_df[\"Player\"]).mean()\n",
    "mean_3pc = specific_player_df[\"3P%\"].groupby(specific_player_df[\"Player\"]).mean()\n",
    "mean_2pc = specific_player_df[\"2P%\"].groupby(specific_player_df[\"Player\"]).mean()\n",
    "mean_mins = specific_player_df[\"MP\"].groupby(specific_player_df[\"Player\"]).mean()\n",
    "mean_pts = specific_player_df[\"PTS\"].groupby(specific_player_df[\"Player\"]).mean()\n",
    "mean_reb = specific_player_df[\"TRB\"].groupby(specific_player_df[\"Player\"]).mean()\n",
    "mean_ast = specific_player_df[\"AST\"].groupby(specific_player_df[\"Player\"]).mean()\n",
    "mean_stl = specific_player_df[\"STL\"].groupby(specific_player_df[\"Player\"]).mean()\n",
    "mean_blk = specific_player_df[\"BLK\"].groupby(specific_player_df[\"Player\"]).mean()\n",
    "mean_tov = specific_player_df[\"TOV\"].groupby(specific_player_df[\"Player\"]).mean()\n",
    "mean_summary_df = pd.DataFrame({\"Avg. Games Played\": mean_games, \"Avg. Mins Played\": mean_mins, \"Avg. Points Scored\": mean_pts,\n",
    "                                \"Avg. Field Goal %\": mean_fgp, \"Avg. 3 Point %\": mean_3pc, \"Avg. 2 Point %\": mean_2pc,\n",
    "                           \"Avg. Rebounds\": mean_reb, \"Avg. Assists\": mean_ast, \"Avg. Steals\": mean_stl, \"Avg. Blocks\": mean_blk, \n",
    "                           \"Avg. Turnovers\": mean_tov})\n",
    "mean_summary_df"
   ]
  },
  {
   "cell_type": "code",
   "execution_count": null,
   "id": "9d1130d4-2545-44a2-9d40-4c6bed00fb76",
   "metadata": {},
   "outputs": [],
   "source": [
    "mj_specific_player_df = specific_player_df.loc[(specific_player_df[\"Player\"] == \"Michael Jordan\")]\n",
    "mj_efficiency = mj_specific_player_df[\"PTS\"] / mj_specific_player_df[\"MP\"]\n",
    "mj_efficiency = mj_efficiency.reset_index(drop = True)\n",
    "mj_efficiency"
   ]
  },
  {
   "cell_type": "code",
   "execution_count": null,
   "id": "73a4ce10-75a4-48c6-a4fe-5c2149d9c12f",
   "metadata": {},
   "outputs": [],
   "source": [
    "lj_specific_player_df = specific_player_df.loc[(specific_player_df[\"Player\"] == \"LeBron James\")]\n",
    "lj_efficiency = lj_specific_player_df[\"PTS\"] / lj_specific_player_df[\"MP\"]\n",
    "lj_efficiency = lj_efficiency.reset_index(drop = True)\n",
    "lj_efficiency"
   ]
  },
  {
   "cell_type": "code",
   "execution_count": null,
   "id": "d9256c4f-9692-4516-ae7e-070da67aea04",
   "metadata": {},
   "outputs": [],
   "source": [
    "mj_plot, = plt.plot(range(len(mj_efficiency)), mj_efficiency, color=\"red\", label=\"Michael Jordan\")\n",
    "lj_plot, = plt.plot(range(len(lj_efficiency)), lj_efficiency, color=\"purple\", label=\"LeBron James\")\n",
    "plt.xticks(range(len(lj_efficiency)))\n",
    "plt.xlabel(\"Per Season\")\n",
    "plt.ylabel(\"Points Per Minute Played\")\n",
    "plt.legend(handles=[mj_plot, lj_plot], loc=\"best\")\n",
    "plt.savefig(\"Charts/efficiency_pts_min.png\")\n",
    "plt.show()"
   ]
  },
  {
   "cell_type": "code",
   "execution_count": null,
   "id": "46ce239a-f724-41ad-b136-d365c201e968",
   "metadata": {},
   "outputs": [],
   "source": [
    "each_game_stats = pd.read_csv(\"NBA_Data/MJ_LJ_Games.csv\")\n",
    "each_game_stats.head()  "
   ]
  },
  {
   "cell_type": "code",
   "execution_count": null,
   "id": "db5f9808-7a0b-4cca-b0d2-97851635c2df",
   "metadata": {},
   "outputs": [],
   "source": [
    "each_game_stats.rename(columns={\"PLAYER_NAME\": \"Player\", \"FG_PCT\": \"FG%\", \"FG3_PCT\": \"3P%\"}, inplace=True)\n",
    "each_game_stats"
   ]
  },
  {
   "cell_type": "code",
   "execution_count": null,
   "id": "f994d6bd-9e4a-4de3-b57b-f1ca9b32e5f4",
   "metadata": {},
   "outputs": [],
   "source": [
    "each_game_stats = each_game_stats[[\"Season\", \"Player\", \"MATCHUP\", \"WL\", \"PTS\", \"FG%\", \"OREB\", \"DREB\", \"AST\", \"STL\", \"BLK\", \"TOV\"]]\n",
    "each_game_stats.head()"
   ]
  },
  {
   "cell_type": "code",
   "execution_count": null,
   "id": "c8100c40-5a5c-46b7-b3bf-32020909079c",
   "metadata": {},
   "outputs": [],
   "source": [
    "#Check for na values\n",
    "each_game_stats.count()"
   ]
  },
  {
   "cell_type": "code",
   "execution_count": null,
   "id": "efd52306-1963-4b9b-83a9-40a1eccfb551",
   "metadata": {},
   "outputs": [],
   "source": [
    "each_game_stats.dropna(inplace=True)"
   ]
  },
  {
   "cell_type": "code",
   "execution_count": null,
   "id": "1f8b5d71-8460-43a6-8c42-4dec68194348",
   "metadata": {},
   "outputs": [],
   "source": [
    "each_game_stats.count()"
   ]
  },
  {
   "cell_type": "code",
   "execution_count": null,
   "id": "2926b262-bd52-4b07-a4d1-706d7eb33a6b",
   "metadata": {},
   "outputs": [],
   "source": [
    "#Lifetime Points Stats (Offensive/each game)\n",
    "mean_pts = each_game_stats[\"PTS\"].groupby(each_game_stats[\"Player\"]).mean()\n",
    "median_pts = each_game_stats[\"PTS\"].groupby(each_game_stats[\"Player\"]).median()\n",
    "var_pts = each_game_stats[\"PTS\"].groupby(each_game_stats[\"Player\"]).var()\n",
    "std_dev_pts = each_game_stats[\"PTS\"].groupby(each_game_stats[\"Player\"]).std()\n",
    "std_err_pts = each_game_stats[\"PTS\"].groupby(each_game_stats[\"Player\"]).sem()\n",
    "\n",
    "summary_lifetime_pts_df = pd.DataFrame({\"Mean Points Scored\": mean_pts, \"Median Points Scored\": median_pts, \"Variance of Points Scored\": var_pts,\n",
    "                               \"Std. Dev of Points Scored\": std_dev_pts, \"Std. Error of Points Scored\": std_err_pts})\n",
    "summary_lifetime_pts_df"
   ]
  },
  {
   "cell_type": "code",
   "execution_count": null,
   "id": "e16ec2fd-91b0-416c-bfce-9c17f6ff32eb",
   "metadata": {},
   "outputs": [],
   "source": [
    "#Lifetime Field Goal % (Offensive/each game)\n",
    "mean_fgp = each_game_stats[\"FG%\"].groupby(each_game_stats[\"Player\"]).mean()\n",
    "median_fgp = each_game_stats[\"FG%\"].groupby(each_game_stats[\"Player\"]).median()\n",
    "var_fgp = each_game_stats[\"FG%\"].groupby(each_game_stats[\"Player\"]).var()\n",
    "std_dev_fgp = each_game_stats[\"FG%\"].groupby(each_game_stats[\"Player\"]).std()\n",
    "std_err_fgp = each_game_stats[\"FG%\"].groupby(each_game_stats[\"Player\"]).sem()\n",
    "\n",
    "summary_lifetime_fgp_df = pd.DataFrame({\"Mean Field Goal %\": mean_fgp, \"Median Field Goal %\": median_fgp, \"Variance of Field Goal %\": var_fgp,\n",
    "                               \"Std. Dev of Field Goal %\": std_dev_fgp, \"Std. Error of Field Goal %\": std_err_fgp})\n",
    "summary_lifetime_fgp_df"
   ]
  },
  {
   "cell_type": "code",
   "execution_count": null,
   "id": "0e86d17a-f796-433e-ae57-7123e84af082",
   "metadata": {},
   "outputs": [],
   "source": [
    "#Lifetime Offensive Rebounds (Offensive/each game)\n",
    "mean_oreb = each_game_stats[\"OREB\"].groupby(each_game_stats[\"Player\"]).mean()\n",
    "median_oreb = each_game_stats[\"OREB\"].groupby(each_game_stats[\"Player\"]).median()\n",
    "var_oreb = each_game_stats[\"OREB\"].groupby(each_game_stats[\"Player\"]).var()\n",
    "std_dev_oreb = each_game_stats[\"OREB\"].groupby(each_game_stats[\"Player\"]).std()\n",
    "std_err_oreb = each_game_stats[\"OREB\"].groupby(each_game_stats[\"Player\"]).sem()\n",
    "\n",
    "summary_lifetime_oreb_df = pd.DataFrame({\"Mean Offensive Rebounds\": mean_oreb, \"Median Offensive Rebounds\": median_oreb,\n",
    "                                     \"Variance of Offensive Rebounds\": var_oreb, \"Std. Dev of Offensive Rebounds\": std_dev_oreb,\n",
    "                                     \"Std. Error of Offensive Rebounds\": std_err_oreb})\n",
    "summary_lifetime_oreb_df"
   ]
  },
  {
   "cell_type": "code",
   "execution_count": null,
   "id": "dee7142e-b02e-4c7c-89b9-9cde3bd95c4d",
   "metadata": {},
   "outputs": [],
   "source": [
    "#Lifetime Assists (Offensive/each game)\n",
    "mean_ast = each_game_stats[\"AST\"].groupby(each_game_stats[\"Player\"]).mean()\n",
    "median_ast = each_game_stats[\"AST\"].groupby(each_game_stats[\"Player\"]).median()\n",
    "var_ast = each_game_stats[\"AST\"].groupby(each_game_stats[\"Player\"]).var()\n",
    "std_dev_ast = each_game_stats[\"AST\"].groupby(each_game_stats[\"Player\"]).std()\n",
    "std_err_ast = each_game_stats[\"AST\"].groupby(each_game_stats[\"Player\"]).sem()\n",
    "\n",
    "summary_lifetime_ast_df = pd.DataFrame({\"Mean Assists\": mean_ast, \"Median Assists\": median_ast,\n",
    "                                     \"Variance of Assists\": var_ast, \"Std. Dev of Assists\": std_dev_ast,\n",
    "                                     \"Std. Error of Assists\": std_err_ast})\n",
    "summary_lifetime_ast_df"
   ]
  },
  {
   "cell_type": "code",
   "execution_count": null,
   "id": "4e569b3f-6211-47fa-b80f-3420f247c555",
   "metadata": {},
   "outputs": [],
   "source": [
    "combined_offensive1 = pd.merge(summary_lifetime_pts_df, summary_lifetime_ast_df, on =\"Player\")\n",
    "mean_values_chart1 = combined_offensive1[[\"Mean Points Scored\", \"Mean Assists\"]]\n",
    "mean_values_chart1.plot(kind=\"bar\")\n",
    "plt.legend(loc=\"upper right\", bbox_to_anchor=(0.4, 1.015))\n",
    "plt.savefig(\"Charts/offensive1.png\")\n",
    "plt.show()"
   ]
  },
  {
   "cell_type": "code",
   "execution_count": null,
   "id": "ccc13c9a-9bb8-4ff3-96eb-95474bd1cb17",
   "metadata": {},
   "outputs": [],
   "source": [
    "combined_offensive2 = pd.merge(summary_lifetime_oreb_df, summary_lifetime_fgp_df, on =\"Player\")\n",
    "mean_values_chart2 = combined_offensive2[[\"Mean Offensive Rebounds\", \"Mean Field Goal %\"]]\n",
    "mean_values_chart2.plot(kind=\"bar\")\n",
    "plt.legend(loc=\"upper right\", bbox_to_anchor=(0.50, 1))\n",
    "plt.savefig(\"Charts/offensive2.png\")\n",
    "plt.show()"
   ]
  },
  {
   "cell_type": "code",
   "execution_count": null,
   "id": "8966439b-9229-4dc6-aabf-41744ecfd669",
   "metadata": {},
   "outputs": [],
   "source": [
    "#Lifetime Defensive Rebounds (Defensive/each game)\n",
    "mean_dreb = each_game_stats[\"DREB\"].groupby(each_game_stats[\"Player\"]).mean()\n",
    "median_dreb = each_game_stats[\"DREB\"].groupby(each_game_stats[\"Player\"]).median()\n",
    "var_dreb = each_game_stats[\"DREB\"].groupby(each_game_stats[\"Player\"]).var()\n",
    "std_dev_dreb = each_game_stats[\"DREB\"].groupby(each_game_stats[\"Player\"]).std()\n",
    "std_err_dreb = each_game_stats[\"DREB\"].groupby(each_game_stats[\"Player\"]).sem()\n",
    "\n",
    "summary_lifetime_dreb_df = pd.DataFrame({\"Mean Defensive Rebounds\": mean_dreb, \"Median Defensive Rebounds\": median_dreb,\n",
    "                                     \"Variance of Defensive Rebounds\": var_dreb, \"Std. Dev of Defensive Rebounds\": std_dev_dreb,\n",
    "                                     \"Std. Error of Defensive Rebounds\": std_err_dreb})\n",
    "summary_lifetime_dreb_df"
   ]
  },
  {
   "cell_type": "code",
   "execution_count": null,
   "id": "8e95fc37-8eec-41af-bc01-9f429f7d0e4b",
   "metadata": {},
   "outputs": [],
   "source": [
    "#Lifetime Steals (Defensive/each game)\n",
    "mean_stl = each_game_stats[\"STL\"].groupby(each_game_stats[\"Player\"]).mean()\n",
    "median_stl = each_game_stats[\"STL\"].groupby(each_game_stats[\"Player\"]).median()\n",
    "var_stl = each_game_stats[\"STL\"].groupby(each_game_stats[\"Player\"]).var()\n",
    "std_dev_stl = each_game_stats[\"STL\"].groupby(each_game_stats[\"Player\"]).std()\n",
    "std_err_stl = each_game_stats[\"STL\"].groupby(each_game_stats[\"Player\"]).sem()\n",
    "\n",
    "summary_lifetime_stl_df = pd.DataFrame({\"Mean Steals\": mean_stl, \"Median Steals\": median_stl,\n",
    "                                     \"Variance of Steals\": var_stl, \"Std. Dev of Steals\": std_dev_stl,\n",
    "                                     \"Std. Error of Steals\": std_err_stl})\n",
    "summary_lifetime_stl_df"
   ]
  },
  {
   "cell_type": "code",
   "execution_count": null,
   "id": "535e5399-dcec-46d8-986d-a9a9d280fef4",
   "metadata": {},
   "outputs": [],
   "source": [
    "#Lifetime Blocks (Defensive/each game)\n",
    "mean_blk = each_game_stats[\"BLK\"].groupby(each_game_stats[\"Player\"]).mean()\n",
    "median_blk = each_game_stats[\"BLK\"].groupby(each_game_stats[\"Player\"]).median()\n",
    "var_blk = each_game_stats[\"BLK\"].groupby(each_game_stats[\"Player\"]).var()\n",
    "std_dev_blk = each_game_stats[\"BLK\"].groupby(each_game_stats[\"Player\"]).std()\n",
    "std_err_blk = each_game_stats[\"BLK\"].groupby(each_game_stats[\"Player\"]).sem()\n",
    "\n",
    "summary_lifetime_blk_df = pd.DataFrame({\"Mean Blocks\": mean_blk, \"Median Blocks\": median_blk,\n",
    "                                     \"Variance of Blocks\": var_blk, \"Std. Dev of Blocks\": std_dev_blk,\n",
    "                                     \"Std. Error of Blocks\": std_err_blk})\n",
    "summary_lifetime_blk_df"
   ]
  },
  {
   "cell_type": "code",
   "execution_count": null,
   "id": "73faaeb4-3001-4ea9-bed0-c14178a269e3",
   "metadata": {},
   "outputs": [],
   "source": [
    "combined_def_stats = pd.merge(summary_lifetime_dreb_df, summary_lifetime_stl_df, on=\"Player\")\n",
    "combined_def_stats = pd.merge(combined_def_stats, summary_lifetime_blk_df, on=\"Player\")\n",
    "mean_def_chart = combined_def_stats[[\"Mean Defensive Rebounds\", \"Mean Steals\", \"Mean Blocks\"]]\n",
    "mean_def_chart.plot.barh()\n",
    "plt.legend(loc=\"upper left\", bbox_to_anchor=(0.50, 1))\n",
    "plt.savefig(\"Charts/defensive.png\")\n",
    "plt.show()"
   ]
  },
  {
   "cell_type": "code",
   "execution_count": null,
   "id": "0aa1a598-786c-4eaa-9e55-8ea48f40e0ea",
   "metadata": {},
   "outputs": [],
   "source": [
    "#Lifetime Turnover (misc/each game)\n",
    "mean_tov = each_game_stats[\"TOV\"].groupby(each_game_stats[\"Player\"]).mean()\n",
    "median_tov = each_game_stats[\"TOV\"].groupby(each_game_stats[\"Player\"]).median()\n",
    "var_tov = each_game_stats[\"TOV\"].groupby(each_game_stats[\"Player\"]).var()\n",
    "std_dev_tov = each_game_stats[\"TOV\"].groupby(each_game_stats[\"Player\"]).std()\n",
    "std_err_tov = each_game_stats[\"TOV\"].groupby(each_game_stats[\"Player\"]).sem()\n",
    "\n",
    "summary_lifetime_tov_df = pd.DataFrame({\"Mean Turnovers\": mean_tov, \"Median Turnovers\": median_tov,\n",
    "                                     \"Variance of Turnovers\": var_tov, \"Std. Dev of Turnovers\": std_dev_tov,\n",
    "                                     \"Std. Error of Turnovers\": std_err_tov})\n",
    "summary_lifetime_tov_df"
   ]
  },
  {
   "cell_type": "code",
   "execution_count": null,
   "id": "6cb2e2d1-4404-4053-848a-c156ed0ed47a",
   "metadata": {},
   "outputs": [],
   "source": [
    "mj_stats = each_game_stats.loc[each_game_stats[\"Season\"] == 1991]\n",
    "mj_stats"
   ]
  },
  {
   "cell_type": "code",
   "execution_count": null,
   "id": "ca381ba7-607d-4d1d-970b-0ac31c9351bd",
   "metadata": {},
   "outputs": [],
   "source": [
    "#PTS stats when MJ won championship 1991 (age 27) **offensive stats\n",
    "mean_pts_mj = mj_stats[\"PTS\"].groupby(mj_stats[\"Player\"]).mean() \n",
    "median_pts_mj = mj_stats[\"PTS\"].groupby(mj_stats[\"Player\"]).median()\n",
    "var_pts_mj = mj_stats[\"PTS\"].groupby(mj_stats[\"Player\"]).var()\n",
    "std_dev_pts_mj = mj_stats[\"PTS\"].groupby(mj_stats[\"Player\"]).std()\n",
    "std_err_pts_mj = mj_stats[\"PTS\"].groupby(mj_stats[\"Player\"]).sem()\n",
    "\n",
    "summary_1991_pts_df = pd.DataFrame({\"Mean Points Scored\": mean_pts_mj, \"Median Points Scored\": median_pts_mj, \"Variance of Points Scored\": var_pts_mj,\n",
    "                               \"Std. Dev of Points Scored\": std_dev_pts_mj, \"Std. Error of Points Scored\": std_err_pts_mj})\n",
    "summary_1991_pts_df"
   ]
  },
  {
   "cell_type": "code",
   "execution_count": null,
   "id": "b4349300-07bb-41f0-b5f4-5f7dada8e57b",
   "metadata": {},
   "outputs": [],
   "source": [
    "#FG% stats when MJ won championship 1991 (age 27) **offensive stats\n",
    "mean_fgp_mj = mj_stats[\"FG%\"].groupby(mj_stats[\"Player\"]).mean()\n",
    "median_fgp_mj = mj_stats[\"FG%\"].groupby(mj_stats[\"Player\"]).median()\n",
    "var_fgp_mj = mj_stats[\"FG%\"].groupby(mj_stats[\"Player\"]).var()\n",
    "std_dev_fgp_mj = mj_stats[\"FG%\"].groupby(mj_stats[\"Player\"]).std()\n",
    "std_err_fgp_mj = mj_stats[\"FG%\"].groupby(mj_stats[\"Player\"]).sem()\n",
    "\n",
    "summary_1991_fgp_df = pd.DataFrame({\"Mean Field Goal %\": mean_fgp_mj, \"Median Field Goal %\": median_fgp_mj, \"Variance of Field Goal %\": var_fgp_mj,\n",
    "                               \"Std. Dev of Field Goal %\": std_dev_fgp_mj, \"Std. Error of Field Goal %\": std_err_fgp_mj})\n",
    "summary_1991_fgp_df"
   ]
  },
  {
   "cell_type": "code",
   "execution_count": null,
   "id": "31dcc944-2d79-4181-8a47-cff5c8833cd2",
   "metadata": {},
   "outputs": [],
   "source": [
    "#OREB stats when MJ won championship 1991 (age 27) **offensive stats\n",
    "mean_oreb_mj = mj_stats[\"OREB\"].groupby(mj_stats[\"Player\"]).mean()\n",
    "median_oreb_mj = mj_stats[\"OREB\"].groupby(mj_stats[\"Player\"]).median()\n",
    "var_oreb_mj = mj_stats[\"OREB\"].groupby(mj_stats[\"Player\"]).var()\n",
    "std_dev_oreb_mj = mj_stats[\"OREB\"].groupby(mj_stats[\"Player\"]).std()\n",
    "std_err_oreb_mj = mj_stats[\"OREB\"].groupby(mj_stats[\"Player\"]).sem()\n",
    "\n",
    "summary_1991_oreb_df = pd.DataFrame({\"Mean Offensive Rebounds\": mean_oreb_mj, \"Median Offensive Rebounds\": median_oreb_mj,\n",
    "                                     \"Variance of Offensive Rebounds\": var_oreb_mj, \"Std. Dev of Offensive Rebounds\": std_dev_oreb_mj,\n",
    "                                     \"Std. Error of Offensive Rebounds\": std_err_oreb_mj})\n",
    "summary_1991_oreb_df"
   ]
  },
  {
   "cell_type": "code",
   "execution_count": null,
   "id": "8b7e6477-cd02-4c1c-a92b-0c554687a8a5",
   "metadata": {},
   "outputs": [],
   "source": [
    "#AST stats when MJ won championship 1991 (age 27) **offensive stats\n",
    "mean_ast_mj = mj_stats[\"AST\"].groupby(mj_stats[\"Player\"]).mean()\n",
    "median_ast_mj = mj_stats[\"AST\"].groupby(mj_stats[\"Player\"]).median()\n",
    "var_ast_mj = mj_stats[\"AST\"].groupby(mj_stats[\"Player\"]).var()\n",
    "std_dev_ast_mj = mj_stats[\"AST\"].groupby(mj_stats[\"Player\"]).std()\n",
    "std_err_ast_mj = mj_stats[\"AST\"].groupby(mj_stats[\"Player\"]).sem()\n",
    "\n",
    "summary_1991_ast_df = pd.DataFrame({\"Mean Assists\": mean_oreb_mj, \"Median Assists\": median_oreb_mj,\n",
    "                                     \"Variance of Assists\": var_oreb_mj, \"Std. Dev of Assists\": std_dev_oreb_mj,\n",
    "                                     \"Std. Error of Assists\": std_err_oreb_mj})\n",
    "summary_1991_ast_df"
   ]
  },
  {
   "cell_type": "code",
   "execution_count": null,
   "id": "9451b4b2-dadd-4e07-8099-6630abfa29f8",
   "metadata": {},
   "outputs": [],
   "source": [
    "#TOV stats when MJ won championship 1991 (age 27) **offensive stats\n",
    "mean_tov_mj = mj_stats[\"TOV\"].groupby(mj_stats[\"Player\"]).mean()\n",
    "median_tov_mj = mj_stats[\"TOV\"].groupby(mj_stats[\"Player\"]).median()\n",
    "var_tov_mj = mj_stats[\"TOV\"].groupby(mj_stats[\"Player\"]).var()\n",
    "std_dev_tov_mj = mj_stats[\"TOV\"].groupby(mj_stats[\"Player\"]).std()\n",
    "std_err_tov_mj = mj_stats[\"TOV\"].groupby(mj_stats[\"Player\"]).sem()\n",
    "\n",
    "summary_1991_tov_df = pd.DataFrame({\"Mean Turnovers\": mean_tov_mj, \"Median Turnovers\": median_tov_mj,\n",
    "                                     \"Variance of Turnovers\": var_tov_mj, \"Std. Dev of Turnovers\": std_dev_tov_mj,\n",
    "                                     \"Std. Error of Turnovers\": std_err_tov_mj})\n",
    "summary_1991_tov_df"
   ]
  },
  {
   "cell_type": "code",
   "execution_count": null,
   "id": "cff1026b-9e43-4c52-8392-7787f68b36c8",
   "metadata": {},
   "outputs": [],
   "source": [
    "lj_stats = each_game_stats.loc[each_game_stats[\"Season\"] == 2012]\n",
    "lj_stats"
   ]
  },
  {
   "cell_type": "code",
   "execution_count": null,
   "id": "eb87d177-e071-46b7-a1a3-1a95501112a4",
   "metadata": {},
   "outputs": [],
   "source": [
    "#PTS stats when LJ won championship 2012 (age 28) **offensive stats\n",
    "mean_pts_lj = lj_stats[\"PTS\"].groupby(lj_stats[\"Player\"]).mean()\n",
    "median_pts_lj = lj_stats[\"PTS\"].groupby(lj_stats[\"Player\"]).median()\n",
    "var_pts_lj = lj_stats[\"PTS\"].groupby(lj_stats[\"Player\"]).var()\n",
    "std_dev_pts_lj = lj_stats[\"PTS\"].groupby(lj_stats[\"Player\"]).std()\n",
    "std_err_pts_lj = lj_stats[\"PTS\"].groupby(lj_stats[\"Player\"]).sem()\n",
    "\n",
    "summary_2012_pts_df = pd.DataFrame({\"Mean Points Scored\": mean_pts_lj, \"Median Points Scored\": median_pts_lj, \"Variance of Points Scored\": var_pts_lj,\n",
    "                               \"Std. Dev of Points Scored\": std_dev_pts_lj, \"Std. Error of Points Scored\": std_err_pts_lj})\n",
    "summary_2012_pts_df"
   ]
  },
  {
   "cell_type": "code",
   "execution_count": null,
   "id": "1e5841ae-b78a-44ef-934f-84721979d754",
   "metadata": {},
   "outputs": [],
   "source": [
    "#FG% stats when LJ won championship 2012 (age 28) **offensive stats\n",
    "mean_fgp_lj = lj_stats[\"FG%\"].groupby(lj_stats[\"Player\"]).mean()\n",
    "median_fgp_lj = lj_stats[\"FG%\"].groupby(lj_stats[\"Player\"]).median()\n",
    "var_fgp_lj = lj_stats[\"FG%\"].groupby(lj_stats[\"Player\"]).var()\n",
    "std_dev_fgp_lj = lj_stats[\"FG%\"].groupby(lj_stats[\"Player\"]).std()\n",
    "std_err_fgp_lj = lj_stats[\"FG%\"].groupby(lj_stats[\"Player\"]).sem()\n",
    "\n",
    "summary_2012_fgp_df = pd.DataFrame({\"Mean Field Goal %\": mean_fgp_lj, \"Median Field Goal %\": median_fgp_lj, \"Variance of Field Goal %\": var_fgp_lj,\n",
    "                               \"Std. Dev of Field Goal %\": std_dev_fgp_lj, \"Std. Error of Field Goal %\": std_err_fgp_lj})\n",
    "summary_2012_fgp_df"
   ]
  },
  {
   "cell_type": "code",
   "execution_count": null,
   "id": "4550f9f2-2445-4927-b0d6-fce1678339c2",
   "metadata": {},
   "outputs": [],
   "source": [
    "#OREB stats when LJ won championship 2012 (age 28) **offensive stats\n",
    "mean_oreb_lj = lj_stats[\"OREB\"].groupby(lj_stats[\"Player\"]).mean()\n",
    "median_oreb_lj = lj_stats[\"OREB\"].groupby(lj_stats[\"Player\"]).median()\n",
    "var_oreb_lj = lj_stats[\"OREB\"].groupby(lj_stats[\"Player\"]).var()\n",
    "std_dev_oreb_lj = lj_stats[\"OREB\"].groupby(lj_stats[\"Player\"]).std()\n",
    "std_err_oreb_lj = lj_stats[\"OREB\"].groupby(lj_stats[\"Player\"]).sem()\n",
    "\n",
    "summary_2012_oreb_df = pd.DataFrame({\"Mean Offensive Rebounds\": mean_oreb_lj, \"Median Offensive Rebounds\": median_oreb_lj,\n",
    "                                     \"Variance of Offensive Rebounds\": var_oreb_lj, \"Std. Dev of Offensive Rebounds\": std_dev_oreb_lj,\n",
    "                                     \"Std. Error of Offensive Rebounds\": std_err_oreb_lj})\n",
    "summary_2012_oreb_df"
   ]
  },
  {
   "cell_type": "code",
   "execution_count": null,
   "id": "3538558f-0ab5-4a46-8194-813034d5ef1e",
   "metadata": {},
   "outputs": [],
   "source": [
    "#AST stats when LJ won championship 2012 (age 28) **offensive stats\n",
    "mean_ast_lj = lj_stats[\"AST\"].groupby(lj_stats[\"Player\"]).mean()\n",
    "median_ast_lj = lj_stats[\"AST\"].groupby(lj_stats[\"Player\"]).median()\n",
    "var_ast_lj = lj_stats[\"AST\"].groupby(lj_stats[\"Player\"]).var()\n",
    "std_dev_ast_lj = lj_stats[\"AST\"].groupby(lj_stats[\"Player\"]).std()\n",
    "std_err_ast_lj = lj_stats[\"AST\"].groupby(lj_stats[\"Player\"]).sem()\n",
    "\n",
    "summary_2012_ast_df = pd.DataFrame({\"Mean Assists\": mean_ast_lj, \"Median Assists\": median_ast_lj,\n",
    "                                     \"Variance of Assists\": var_ast_lj, \"Std. Dev of Assists\": std_dev_ast_lj,\n",
    "                                     \"Std. Error of Assists\": std_err_ast_lj})\n",
    "summary_2012_ast_df"
   ]
  },
  {
   "cell_type": "code",
   "execution_count": null,
   "id": "a1c4e45e-c433-4fc1-ae3b-cc209c42461f",
   "metadata": {},
   "outputs": [],
   "source": [
    "#TOV stats when LJ won championship 2012 (age 28) **offensive stats\n",
    "mean_tov_lj = lj_stats[\"TOV\"].groupby(lj_stats[\"Player\"]).mean()\n",
    "median_tov_lj = lj_stats[\"TOV\"].groupby(lj_stats[\"Player\"]).median()\n",
    "var_tov_lj = lj_stats[\"TOV\"].groupby(lj_stats[\"Player\"]).var()\n",
    "std_dev_tov_lj = lj_stats[\"TOV\"].groupby(lj_stats[\"Player\"]).std()\n",
    "std_err_tov_lj = lj_stats[\"TOV\"].groupby(lj_stats[\"Player\"]).sem()\n",
    "\n",
    "summary_2012_tov_df = pd.DataFrame({\"Mean Turnovers\": mean_ast_lj, \"Median Turnovers\": median_ast_lj,\n",
    "                                     \"Variance of Turnovers\": var_ast_lj, \"Std. Dev of Turnovers\": std_dev_ast_lj,\n",
    "                                     \"Std. Error of Turnovers\": std_err_ast_lj})\n",
    "summary_2012_tov_df"
   ]
  },
  {
   "cell_type": "code",
   "execution_count": null,
   "id": "46393d78-5fd2-4f38-ac0c-e1ccc5e5d226",
   "metadata": {},
   "outputs": [],
   "source": [
    "champ_combined = pd.merge(summary_1991_pts_df, summary_2012_pts_df, how=\"outer\")\n",
    "champ_combined"
   ]
  }
 ],
 "metadata": {
  "kernelspec": {
   "display_name": "Python 3 (ipykernel)",
   "language": "python",
   "name": "python3"
  },
  "language_info": {
   "codemirror_mode": {
    "name": "ipython",
    "version": 3
   },
   "file_extension": ".py",
   "mimetype": "text/x-python",
   "name": "python",
   "nbconvert_exporter": "python",
   "pygments_lexer": "ipython3",
   "version": "3.11.5"
  }
 },
 "nbformat": 4,
 "nbformat_minor": 5
}
